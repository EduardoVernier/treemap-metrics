{
 "cells": [
  {
   "cell_type": "code",
   "execution_count": 21,
   "metadata": {},
   "outputs": [],
   "source": [
    "import pandas as pd"
   ]
  },
  {
   "cell_type": "code",
   "execution_count": 22,
   "metadata": {},
   "outputs": [
    {
     "data": {
      "text/html": [
       "<div>\n",
       "<style scoped>\n",
       "    .dataframe tbody tr th:only-of-type {\n",
       "        vertical-align: middle;\n",
       "    }\n",
       "\n",
       "    .dataframe tbody tr th {\n",
       "        vertical-align: top;\n",
       "    }\n",
       "\n",
       "    .dataframe thead th {\n",
       "        text-align: right;\n",
       "    }\n",
       "</style>\n",
       "<table border=\"1\" class=\"dataframe\">\n",
       "  <thead>\n",
       "    <tr style=\"text-align: right;\">\n",
       "      <th></th>\n",
       "      <th>title</th>\n",
       "      <th>maxNodes</th>\n",
       "      <th>timesteps</th>\n",
       "      <th>depthCategory</th>\n",
       "      <th>sizeVarianceCategory</th>\n",
       "      <th>dataChangeCategory</th>\n",
       "      <th>sizeChangeCategory</th>\n",
       "    </tr>\n",
       "  </thead>\n",
       "  <tbody>\n",
       "    <tr>\n",
       "      <th>0</th>\n",
       "      <td>gh-websocket-m</td>\n",
       "      <td>40</td>\n",
       "      <td>52</td>\n",
       "      <td>2 or 3 levels</td>\n",
       "      <td>High variance</td>\n",
       "      <td>Low size change</td>\n",
       "      <td>Low data change</td>\n",
       "    </tr>\n",
       "    <tr>\n",
       "      <th>1</th>\n",
       "      <td>wb-AG.LND.AGRI.K2</td>\n",
       "      <td>210</td>\n",
       "      <td>55</td>\n",
       "      <td>2 or 3 levels</td>\n",
       "      <td>High variance</td>\n",
       "      <td>Low size change</td>\n",
       "      <td>Low data change</td>\n",
       "    </tr>\n",
       "    <tr>\n",
       "      <th>2</th>\n",
       "      <td>wb-AG.LND.ARBL.HA</td>\n",
       "      <td>208</td>\n",
       "      <td>55</td>\n",
       "      <td>2 or 3 levels</td>\n",
       "      <td>High variance</td>\n",
       "      <td>Low size change</td>\n",
       "      <td>Low data change</td>\n",
       "    </tr>\n",
       "    <tr>\n",
       "      <th>3</th>\n",
       "      <td>wb-AG.LND.ARBL.HA.PC</td>\n",
       "      <td>208</td>\n",
       "      <td>55</td>\n",
       "      <td>2 or 3 levels</td>\n",
       "      <td>High variance</td>\n",
       "      <td>Low size change</td>\n",
       "      <td>Low data change</td>\n",
       "    </tr>\n",
       "    <tr>\n",
       "      <th>4</th>\n",
       "      <td>wb-AG.LND.ARBL.ZS</td>\n",
       "      <td>208</td>\n",
       "      <td>55</td>\n",
       "      <td>2 or 3 levels</td>\n",
       "      <td>High variance</td>\n",
       "      <td>Low size change</td>\n",
       "      <td>Low data change</td>\n",
       "    </tr>\n",
       "  </tbody>\n",
       "</table>\n",
       "</div>"
      ],
      "text/plain": [
       "                  title  maxNodes  timesteps  depthCategory  \\\n",
       "0        gh-websocket-m        40         52  2 or 3 levels   \n",
       "1     wb-AG.LND.AGRI.K2       210         55  2 or 3 levels   \n",
       "2     wb-AG.LND.ARBL.HA       208         55  2 or 3 levels   \n",
       "3  wb-AG.LND.ARBL.HA.PC       208         55  2 or 3 levels   \n",
       "4     wb-AG.LND.ARBL.ZS       208         55  2 or 3 levels   \n",
       "\n",
       "  sizeVarianceCategory dataChangeCategory sizeChangeCategory  \n",
       "0        High variance    Low size change    Low data change  \n",
       "1        High variance    Low size change    Low data change  \n",
       "2        High variance    Low size change    Low data change  \n",
       "3        High variance    Low size change    Low data change  \n",
       "4        High variance    Low size change    Low data change  "
      ]
     },
     "execution_count": 22,
     "metadata": {},
     "output_type": "execute_result"
    }
   ],
   "source": [
    "df = pd.read_csv('All_datasets.txt', sep='\\t')\n",
    "df.head()"
   ]
  },
  {
   "cell_type": "code",
   "execution_count": 45,
   "metadata": {},
   "outputs": [],
   "source": [
    "depthCategories = ['Single level', '2 or 3 levels', '4+ levels']\n",
    "sizeVarianceCategories = ['Low variance' ,'High variance']\n",
    "dataChangeCategories = ['Low size change', 'Regular size change', 'Spiky size change']\n",
    "sizeChangeCategories = ['Low data change', 'Regular data change', 'Spiky data change']"
   ]
  },
  {
   "cell_type": "code",
   "execution_count": 24,
   "metadata": {},
   "outputs": [
    {
     "name": "stdout",
     "output_type": "stream",
     "text": [
      "['2 or 3 levels' '4+ levels' 'Single level']\n",
      "['High variance' 'Low variance']\n",
      "['Low size change' 'Regular size change' 'Spiky size change']\n",
      "['Low data change' 'Spiky data change' 'Regular data change']\n"
     ]
    }
   ],
   "source": [
    "print(depthCategories, sizeVarianceCategories, dataChangeCategories, sizeChangeCategories, sep='\\n')"
   ]
  },
  {
   "cell_type": "code",
   "execution_count": 30,
   "metadata": {},
   "outputs": [],
   "source": [
    "out_df = pd.MultiIndex.from_product([depthCategories, sizeVarianceCategories, dataChangeCategories, sizeChangeCategories], )"
   ]
  },
  {
   "cell_type": "code",
   "execution_count": 33,
   "metadata": {},
   "outputs": [
    {
     "data": {
      "text/plain": [
       "MultiIndex(levels=[['2 or 3 levels', '4+ levels', 'Single level'], ['High variance', 'Low variance'], ['Low size change', 'Regular size change', 'Spiky size change'], ['Low data change', 'Regular data change', 'Spiky data change']],\n",
       "           labels=[[0, 0, 0, 0, 0, 0, 0, 0, 0, 0, 0, 0, 0, 0, 0, 0, 0, 0, 1, 1, 1, 1, 1, 1, 1, 1, 1, 1, 1, 1, 1, 1, 1, 1, 1, 1, 2, 2, 2, 2, 2, 2, 2, 2, 2, 2, 2, 2, 2, 2, 2, 2, 2, 2], [0, 0, 0, 0, 0, 0, 0, 0, 0, 1, 1, 1, 1, 1, 1, 1, 1, 1, 0, 0, 0, 0, 0, 0, 0, 0, 0, 1, 1, 1, 1, 1, 1, 1, 1, 1, 0, 0, 0, 0, 0, 0, 0, 0, 0, 1, 1, 1, 1, 1, 1, 1, 1, 1], [0, 0, 0, 1, 1, 1, 2, 2, 2, 0, 0, 0, 1, 1, 1, 2, 2, 2, 0, 0, 0, 1, 1, 1, 2, 2, 2, 0, 0, 0, 1, 1, 1, 2, 2, 2, 0, 0, 0, 1, 1, 1, 2, 2, 2, 0, 0, 0, 1, 1, 1, 2, 2, 2], [0, 2, 1, 0, 2, 1, 0, 2, 1, 0, 2, 1, 0, 2, 1, 0, 2, 1, 0, 2, 1, 0, 2, 1, 0, 2, 1, 0, 2, 1, 0, 2, 1, 0, 2, 1, 0, 2, 1, 0, 2, 1, 0, 2, 1, 0, 2, 1, 0, 2, 1, 0, 2, 1]])"
      ]
     },
     "metadata": {},
     "output_type": "display_data"
    }
   ],
   "source": [
    "display(out_df)"
   ]
  },
  {
   "cell_type": "code",
   "execution_count": 40,
   "metadata": {},
   "outputs": [
    {
     "ename": "AttributeError",
     "evalue": "'MultiIndex' object has no attribute 'loc'",
     "output_type": "error",
     "traceback": [
      "\u001b[0;31m---------------------------------------------------------------------------\u001b[0m",
      "\u001b[0;31mAttributeError\u001b[0m                            Traceback (most recent call last)",
      "\u001b[0;32m<ipython-input-40-2f0e2151c956>\u001b[0m in \u001b[0;36m<module>\u001b[0;34m()\u001b[0m\n\u001b[0;32m----> 1\u001b[0;31m \u001b[0mout_df\u001b[0m\u001b[0;34m.\u001b[0m\u001b[0mloc\u001b[0m\u001b[0;34m[\u001b[0m\u001b[0;34m'Single level'\u001b[0m\u001b[0;34m,\u001b[0m \u001b[0;34m'High variance'\u001b[0m\u001b[0;34m,\u001b[0m \u001b[0;34m'Regular size change'\u001b[0m\u001b[0;34m,\u001b[0m \u001b[0;34m'Low data change'\u001b[0m\u001b[0;34m]\u001b[0m \u001b[0;34m=\u001b[0m \u001b[0;36m0\u001b[0m\u001b[0;34m\u001b[0m\u001b[0m\n\u001b[0m",
      "\u001b[0;31mAttributeError\u001b[0m: 'MultiIndex' object has no attribute 'loc'"
     ]
    }
   ],
   "source": [
    "out_df.loc['Single level', 'High variance', 'Regular size change', 'Low data change'] = 0"
   ]
  },
  {
   "cell_type": "code",
   "execution_count": 53,
   "metadata": {},
   "outputs": [
    {
     "name": "stdout",
     "output_type": "stream",
     "text": [
      "3\n",
      "1\n",
      "17\n",
      "0\n",
      "0\n",
      "16\n",
      "1\n",
      "1\n",
      "129\n"
     ]
    }
   ],
   "source": [
    "# for a in depthCategories:\n",
    "#     for b in sizeVarianceCategories:\n",
    "a = '4+ levels'\n",
    "b = 'High variance'\n",
    "for c in dataChangeCategories:\n",
    "    for d in sizeChangeCategories:\n",
    "        filtered = df[(df['depthCategory'] == a) & \n",
    "                      (df['sizeVarianceCategory'] == b) &\n",
    "                      (df['dataChangeCategory'] == c) &\n",
    "                      (df['sizeChangeCategory'] == d)]\n",
    "#         print(a, b, c, d, len(filtered), sep=', ')\n",
    "        print(len(filtered))"
   ]
  }
 ],
 "metadata": {
  "kernelspec": {
   "display_name": "Python 3",
   "language": "python",
   "name": "python3"
  },
  "language_info": {
   "codemirror_mode": {
    "name": "ipython",
    "version": 3
   },
   "file_extension": ".py",
   "mimetype": "text/x-python",
   "name": "python",
   "nbconvert_exporter": "python",
   "pygments_lexer": "ipython3",
   "version": "3.5.2"
  }
 },
 "nbformat": 4,
 "nbformat_minor": 2
}
